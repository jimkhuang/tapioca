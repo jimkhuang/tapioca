{
 "cells": [
  {
   "cell_type": "code",
   "execution_count": 352,
   "metadata": {},
   "outputs": [],
   "source": [
    "import numpy as np\n",
    "import pandas as pd\n",
    "import datetime as dt\n",
    "import requests\n",
    "import sqlite3\n",
    "import json\n",
    "from bs4 import BeautifulSoup\n",
    "import os\n",
    "import time"
   ]
  },
  {
   "cell_type": "code",
   "execution_count": 348,
   "metadata": {},
   "outputs": [],
   "source": [
    "class Animal():\n",
    "    def __init__(self, vars ,**kwargs):\n",
    "        self.__dict__.update(vars, **kwargs)\n",
    "\n",
    "class crawl(Animal):\n",
    "\n",
    "    def ptt(self, url):\n",
    "        header = self.__dict__\n",
    "        r = requests.get(url, headers=header)\n",
    "\n",
    "        if r.status_code == 200:\n",
    "            soup = BeautifulSoup(r.text, \"html.parser\")\n",
    "       \n",
    "            web_list = []\n",
    "            for i in soup.find_all(\"div\", class_='r-ent'):\n",
    "                j = i.find_all(\"a\", href=True)\n",
    "                if len(j)>0:\n",
    "                    web_list.append(\"https://www.ptt.cc/\"+j[0][\"href\"])\n",
    "\n",
    "        else: return \"something wrong about ptt stock %s.\" %url\n",
    "\n",
    "        for j in web_list:\n",
    "            r2 = requests.get(j, headers=header)\n",
    "            if r2.status_code == 200:\n",
    "\n",
    "                soup2 = BeautifulSoup(r2.text, \"html.parser\")\n",
    "                soup2.title.string.split(\"-\")[0]\n",
    "\n",
    "                text = soup2.find(id=\"main-container\").text.split(\"--\")\n",
    "                pre_text = text[0].split('\\n')\n",
    "\n",
    "                push_text= []\n",
    "                for i in soup2.find_all(\"div\", class_=\"push\"):\n",
    "                    push_text.append(i.text)\n",
    "                \n",
    "                s = soup2.title.string.split(\"-\")[0]\n",
    "\n",
    "                with open(os.path.join(\"news/ptt/\", repr(s).replace(\"\\\\\",\"\").replace(\"/\",\"\").replace(\" \",\"\")+\".txt\"), \"w\") as f:\n",
    "                    f.write(\"\\n\".join(pre_text[1:]))\n",
    "                    f.write(\"\\n\".join(push_text))\n",
    "\n",
    "            else: return \"th post %s has something wrong\" %j\n",
    "    \n",
    "    def udn(self, url):\n",
    "        header = self.__dict__\n",
    "        r = requests.get(url, headers=header)\n",
    "\n",
    "        if r.status_code == 200:\n",
    "            soup = BeautifulSoup(r.text, \"html.parser\")\n",
    "            \n",
    "            web_list = []\n",
    "            for i in soup.find_all(\"div\", class_=\"story__content\"):\n",
    "                j = i.find_all(\"a\", href=True)\n",
    "                web_list.append(j[0][\"href\"])\n",
    "\n",
    "        else: return \"something wrong about udn %s.\" %url\n",
    "\n",
    "        for j in web_list:\n",
    "            r2 = requests.get(j, headers=header)\n",
    "            if r2.status_code == 200:\n",
    "\n",
    "                soup = BeautifulSoup(r2.text, \"html.parser\")\n",
    "\n",
    "                timing = soup.find(\"time\",class_=\"article-body__time\")\n",
    "                if timing is not None:\n",
    "                    \n",
    "                    timing = timing.text\n",
    "                    title = soup.find(id=\"story_art_title\").text\n",
    "                    body = soup.find(\"section\",class_=\"article-body__editor\").text\n",
    "\n",
    "                    name = repr(title).replace(\"\\\\\",\"\").replace(\"/\",\"\").replace(\" \",\"\")\n",
    "\n",
    "                    with open(os.path.join(\"news/udn/\", name+\".txt\"), \"w\") as f:\n",
    "                        f.write(title)\n",
    "                        f.write('\\n')\n",
    "                        f.write(timing)\n",
    "                        f.write(body)\n",
    "\n",
    "            else: return \"th post %s has something wrong\" %j\n",
    "\n"
   ]
  },
  {
   "attachments": {},
   "cell_type": "markdown",
   "metadata": {},
   "source": [
    "Set up the header for crawling"
   ]
  },
  {
   "cell_type": "code",
   "execution_count": 240,
   "metadata": {},
   "outputs": [],
   "source": [
    "user_agent = \"Mozilla/5.0 (Macintosh; Intel Mac OS X 10_15_7) AppleWebKit/537.36 (KHTML, like Gecko) Chrome/120.0.0.0 Safari/537.36\"\n",
    "cookie = \"uuid_tt_dd=10_20564905260-1703225841522-750867; c_first_ref=www.google.com; c_segment=3; c_adb=1; dc_sid=df9d26e5f60c9796335d2b2bdc46e0aa; hide_login=1; SidecHatdocDescBoxNum=true; creative_btn_mp=3; dc_session_id=10_1704181968889.661952; SESSION=ee7d1139-efc1-4491-8412-ffed93215f66; c_first_page=https%3A//blog.csdn.net/yinjun3215/article/details/108477055; c_dsid=11_1704184443684.220868; c_pref=https%3A//www.google.com/; c_ref=https%3A//blog.csdn.net/yinjun3215/article/details/108477055; c_utm_medium=distribute.pc_relevant.none-task-blog-2%7Edefault%7ECTRLIST%7ERate-1-102261567-blog-108477055.235%5Ev40%5Epc_relevant_anti_t3; c_utm_relevant_index=2; c_page_id=default; log_Id_pv=19; loginbox_strategy=%7B%22taskId%22%3A308%2C%22abCheckTime%22%3A1704163911128%2C%22version%22%3A%22exp1%22%2C%22blog-threeH-dialogtipShowTimes%22%3A8%2C%22blog-threeH-dialog%22%3A1704182063207%7D; log_Id_view=477; log_Id_click=7; dc_tos=s6mm2j\"\n",
    "x = dict({\"User-Agent\":user_agent, \"Cookie\":cookie})"
   ]
  },
  {
   "cell_type": "code",
   "execution_count": 350,
   "metadata": {},
   "outputs": [],
   "source": [
    "test = crawl(x)"
   ]
  },
  {
   "cell_type": "code",
   "execution_count": 283,
   "metadata": {},
   "outputs": [],
   "source": [
    "for k in range(6805, 6819+1):\n",
    "    ptt_path = \"https://www.ptt.cc/bbs/Stock/index\"+str(k)+\".html\"\n",
    "    test.ptt(url=ptt_path)\n",
    "    if (k%100 == 0):\n",
    "        print(k)\n",
    "    time.sleep(5)"
   ]
  },
  {
   "cell_type": "code",
   "execution_count": null,
   "metadata": {},
   "outputs": [],
   "source": [
    "for k in range(75,90):\n",
    "    ptt_path = \"https://money.udn.com/rank/ajax_newest/1001/0/\"+str(k)\n",
    "    test.udn(url=ptt_path)\n",
    "    if (k%2 == 0):\n",
    "        print(k)\n",
    "    time.sleep(5)"
   ]
  },
  {
   "cell_type": "code",
   "execution_count": 399,
   "metadata": {},
   "outputs": [],
   "source": [
    "user_agent = \"Mozilla/5.0 (Macintosh; Intel Mac OS X 10_15_7) AppleWebKit/537.36 (KHTML, like Gecko) Chrome/120.0.0.0 Safari/537.36\"\n",
    "cookie=\"sDataFile=CAR%2DY%2CSTN%2DN%2CICM%2DY%2CICD%2DY%2CEVF%2DN%2CSVR%2DY%2CCMP%2DY%2CCSE%2DN%2CIOT%2DN%2CSMG%2DN%2CBWC%2DN%2CSML%2DN%2CSMF%2DY%2CATC%2DN%2CAAI%2DN%2CDHM%2DN%2CMCN%2DY%2CGNT%2DN%2CAIP%2DN%2CAIR%2DN%2C5GF%2DN%2CPCE%2DN%2C;\"\n",
    "referer = \"https://www.digitimes.com.tw/tech/dt/allnewslist.asp?CnlID=99\"\n",
    "content_type = \"application/x-www-form-urlencoded; charset=UTF-8\"\n",
    "x = dict({\"User-Agent\":user_agent, \"Cookie\":cookie, \"Referer\":referer, \"Content-Type\":content_type})"
   ]
  },
  {
   "cell_type": "code",
   "execution_count": 400,
   "metadata": {},
   "outputs": [
    {
     "data": {
      "text/plain": [
       "200"
      ]
     },
     "execution_count": 400,
     "metadata": {},
     "output_type": "execute_result"
    }
   ],
   "source": [
    "r = requests.get(\"https://www.digitimes.com.tw/tech/ajax/newslist_ajax.asp\", headers=x, auth=(\"james.jk.huang@foxconn.com\", \"4GJ0L48X27ZQHP0E5KN6B3UZ1HF3D1NL0PQIYV3CF3YOWL3L\"))\n",
    "r.status_code"
   ]
  },
  {
   "cell_type": "code",
   "execution_count": 401,
   "metadata": {},
   "outputs": [],
   "source": [
    "soup = BeautifulSoup(r.text, \"html.parser\")"
   ]
  },
  {
   "cell_type": "code",
   "execution_count": 402,
   "metadata": {},
   "outputs": [
    {
     "data": {
      "text/plain": [
       "[<div class=\"col-md-7 col-sm-7 col-xs-8 subject_area\" hb=\"1\"><a href=\"/tech/dt/n/shwnws.asp?cnlid=1&amp;cat=90&amp;id=0000682427_XSD5KRPE17VM7B8538EST\" target=\"_blank\"><p style=\"margin:5px 0;\"><span>比亞迪單季純電動車銷量超越Tesla　4Q23成全球龍頭</span>   <span class=\"visible-xs\">1/3 12:27</span></p></a></div>,\n",
       " <div class=\"col-md-7 col-sm-7 col-xs-8 subject_area\" hb=\"1\"><a href=\"/tech/dt/n/shwnws.asp?cnlid=1&amp;cat=70&amp;id=0000682446_D8J3EBWF5H3S9F5VRSZ3R\" target=\"_blank\"><p style=\"margin:5px 0;\"><span>2023年高階手機市場持續擴張　蘋果強碰三星、華為</span>   <span class=\"visible-xs\">1/3 12:14</span></p></a></div>,\n",
       " <div class=\"col-md-7 col-sm-7 col-xs-8 subject_area\" hb=\"1\"><a href=\"/tech/dt/n/shwnws.asp?cnlid=1&amp;cat=40&amp;id=0000682429_RNJ5PERJ1X64JZL6W3XPG\" target=\"_blank\"><p style=\"margin:5px 0;\"><span>鞏固HBM領導地位　SK海力士ㅡM15X新廠將生產HBM</span>   <span class=\"visible-xs\">1/3 12:06</span></p></a></div>,\n",
       " <div class=\"col-md-7 col-sm-7 col-xs-8 subject_area\" hb=\"1\"><a href=\"/tech/dt/n/shwnws.asp?cnlid=9&amp;cat=400&amp;id=0000682440_5XA5OSIE32N50S15X2SZ3\" target=\"_blank\"><p style=\"margin:5px 0;\"><span>SEMI：終端、AI需求添足動能　全球晶圓月產能將破3千萬片</span>   <span class=\"visible-xs\">1/3 11:41</span></p></a></div>,\n",
       " <div class=\"col-md-7 col-sm-7 col-xs-8 subject_area\" hb=\"1\"><a href=\"/tech/dt/n/shwnws.asp?cnlid=1&amp;cat=40&amp;id=0000682428_T1Q3VHGB3VJJOE7MKYNP2\" target=\"_blank\"><p style=\"margin:5px 0;\"><span>日本石川地震衝擊製造與物流　東芝、Kokusai等停工</span>   <span class=\"visible-xs\">1/3 11:27</span></p></a></div>,\n",
       " <div class=\"col-md-7 col-sm-7 col-xs-8 subject_area\" hb=\"1\"><a href=\"/tech/dt/n/shwnws.asp?cnlid=1&amp;cat=40&amp;id=0000682421_L535W9WW1GSR5J2GC25QF\" target=\"_blank\"><p style=\"margin:5px 0;\"><span>李開復預測中國AI產業大洗牌　採本土AI晶片有備案</span>   <span class=\"visible-xs\">1/3 10:36</span></p></a></div>,\n",
       " <div class=\"col-md-7 col-sm-7 col-xs-8 subject_area\" hb=\"1\"><a href=\"/tech/dt/n/shwnws.asp?cnlid=1&amp;cat=20&amp;id=0000682425_B5N3GQWS3CL1FG4G8OC4E\" target=\"_blank\"><p style=\"margin:5px 0;\"><span>彭博：蘋果Vision Pro將於1月底開賣</span>   <span class=\"visible-xs\">1/3 10:13</span></p></a></div>,\n",
       " <div class=\"col-md-7 col-sm-7 col-xs-8 subject_area\" hb=\"1\"><a href=\"/tech/dt/n/shwnws.asp?cnlid=1&amp;cat=60&amp;id=0000682413_KAK3QUOY23KHWJ2LEA93D\" target=\"_blank\"><p style=\"margin:5px 0;\"><span>百度CEO：中國算力晶片受限　「百模大戰」太浪費資源</span>   <span class=\"visible-xs\">1/3 10:06</span></p></a></div>,\n",
       " <div class=\"col-md-7 col-sm-7 col-xs-8 subject_area\" hb=\"1\"><a href=\"/tech/dt/n/shwnws.asp?cnlid=9&amp;cat=315&amp;id=0000682422_BDD5B8221YCYZR3KKJ73N\" target=\"_blank\"><p style=\"margin:5px 0;\"><span>紅海危機持續　海運巨擘相繼宣布繞道好望角</span>   <span class=\"visible-xs\">1/3 09:13</span></p></a></div>,\n",
       " <div class=\"col-md-7 col-sm-7 col-xs-8 subject_area\" hb=\"1\"><a href=\"/tech/dt/n/shwnws.asp?cnlid=1&amp;cat=90&amp;id=0000682412_LJQ3GZBR2NWAVD1V648QT\" target=\"_blank\"><p style=\"margin:5px 0;\"><span>每日椽真：今年供應鏈仍看NVIDIA臉色？| 豐田跟進這個技術　機器人業者大感不妙</span>   <span class=\"visible-xs\">1/3 05:46</span></p></a></div>,\n",
       " <div class=\"col-md-7 col-sm-7 col-xs-8 subject_area\" hb=\"1\"><a href=\"/tech/dt/n/shwnws.asp?cnlid=13&amp;id=0000682162_U2S2CRRQ5UKKQQ3C7911H\" target=\"_blank\"><p style=\"margin:5px 0;\"><span>F5發布2024年多雲應用與安全技術預測</span>   <span class=\"visible-xs\">1/3 03:07</span></p></a></div>,\n",
       " <div class=\"col-md-7 col-sm-7 col-xs-8 subject_area\" hb=\"1\"><a href=\"/tech/dt/n/shwnws.asp?cnlid=9&amp;cat=400&amp;id=0000682384_E2R2DOQF9U9EHQ3O75PZU\" target=\"_blank\"><p style=\"margin:5px 0;\"><span>DRAM補漲正式啟動　三星、美光1Q24漲幅上看20%</span>   <span class=\"visible-xs\">1/3 03:00</span></p></a></div>,\n",
       " <div class=\"col-md-7 col-sm-7 col-xs-8 subject_area\" hb=\"1\"><a href=\"/tech/dt/n/shwnws.asp?cnlid=1&amp;cat=30&amp;id=0000682378_OLE4RVZL69GD859MI6OBU\" target=\"_blank\"><p style=\"margin:5px 0;\"><span>彩色電子紙兩軍對壘　中國市場先較量</span>   <span class=\"visible-xs\">1/3 03:00</span></p></a></div>,\n",
       " <div class=\"col-md-7 col-sm-7 col-xs-8 subject_area\" hb=\"1\"><a href=\"/tech/dt/n/shwnws.asp?cnlid=1&amp;cat=30&amp;id=0000681103_6IJ0W4IK14W4YH2E85M93\" target=\"_blank\"><p style=\"margin:5px 0;\"><span>2023年OLED監視器出貨有望大增　SDC市佔稱王</span>   <span class=\"visible-xs\">1/3 02:56</span></p></a></div>,\n",
       " <div class=\"col-md-7 col-sm-7 col-xs-8 subject_area\" hb=\"1\"><a href=\"/tech/dt/n/shwnws.asp?cnlid=13&amp;id=0000682027_OBGLDAI53R3DWR6JZIUS3\" target=\"_blank\"><p style=\"margin:5px 0;\"><span>富比士公布「2023年美國最大私人公司」 金士頓再度登榜前25強</span>   <span class=\"visible-xs\">1/3 02:54</span></p></a></div>,\n",
       " <div class=\"col-md-7 col-sm-7 col-xs-8 subject_area\" hb=\"1\"><a href=\"/tech/dt/n/shwnws.asp?cnlid=9&amp;cat=400&amp;id=0000682362_IY347FIQ5JSIQX3U35GCP\" target=\"_blank\"><p style=\"margin:5px 0;\"><span>為6所半導體學院裝上翅膀　國科會將高額補助採購貴重儀器</span>   <span class=\"visible-xs\">1/3 02:52</span></p></a></div>,\n",
       " <div class=\"col-md-7 col-sm-7 col-xs-8 subject_area\" hb=\"1\"><a href=\"/tech/dt/n/shwnws.asp?cnlid=1&amp;cat=40&amp;id=0000682187_MZH25VXT7WOKT98JDQZCA\" target=\"_blank\"><p style=\"margin:5px 0;\"><span>生成式AI新紀元　聊天機器人朝智慧助理發展</span>   <span class=\"visible-xs\">1/3 02:51</span></p></a></div>,\n",
       " <div class=\"col-md-7 col-sm-7 col-xs-8 subject_area\" hb=\"1\"><a href=\"/tech/dt/n/shwnws.asp?cnlid=13&amp;id=0000682159_1ZV23UPH45E7UMLGWAZMZ\" target=\"_blank\"><p style=\"margin:5px 0;\"><span>瑞薩推出可程式馬達驅動器IC　提供零速全扭矩</span>   <span class=\"visible-xs\">1/3 02:50</span></p></a></div>,\n",
       " <div class=\"col-md-7 col-sm-7 col-xs-8 subject_area\" hb=\"1\"><a href=\"/tech/dt/n/shwnws.asp?cnlid=9&amp;cat=430&amp;id=0000682377_6OB2J8YL8PYB066LJALQY\" target=\"_blank\"><p style=\"margin:5px 0;\"><span>看準車用新藍海　台系功率元件加速擴廠腳步</span>   <span class=\"visible-xs\">1/3 02:50</span></p></a></div>,\n",
       " <div class=\"col-md-7 col-sm-7 col-xs-8 subject_area\" hb=\"1\"><a href=\"/tech/dt/n/shwnws.asp?cnlid=1&amp;cat=90&amp;id=0000681040_4AKLAPAL5FTIKVLVGMCOK\" target=\"_blank\"><p style=\"margin:5px 0;\"><span>(Daily Issue)未來車：2023全球車市迎成長　2024業界展望不同調</span>   <span class=\"visible-xs\">1/3 02:49</span></p></a></div>,\n",
       " <div class=\"col-md-7 col-sm-7 col-xs-8 subject_area\" hb=\"1\"><a href=\"/tech/dt/n/shwnws.asp?cnlid=1&amp;cat=30&amp;id=0000681788_ZCR8XJQM7HFJ739VRZL87\" target=\"_blank\"><p style=\"margin:5px 0;\"><span>DSCC：2024年顯示器設備投資將年增82%</span>   <span class=\"visible-xs\">1/3 02:49</span></p></a></div>,\n",
       " <div class=\"col-md-7 col-sm-7 col-xs-8 subject_area\" hb=\"1\"><a href=\"/tech/dt/n/shwnws.asp?cnlid=1&amp;cat=60&amp;id=0000682311_MZJ4GJSR093CKH2TFV7VV\" target=\"_blank\"><p style=\"margin:5px 0;\"><span>比爾蓋茲預測AI將加速創新力與生產力</span>   <span class=\"visible-xs\">1/3 02:49</span></p></a></div>,\n",
       " <div class=\"col-md-7 col-sm-7 col-xs-8 subject_area\" hb=\"1\"><a href=\"/tech/dt/n/shwnws.asp?cnlid=1&amp;cat=30&amp;id=0000682373_H474Q2VR62IH8T4VMD5VY\" target=\"_blank\"><p style=\"margin:5px 0;\"><span>英濟上海廠搬遷　衝刺光電、生醫新事業</span>   <span class=\"visible-xs\">1/3 02:48</span></p></a></div>]"
      ]
     },
     "execution_count": 402,
     "metadata": {},
     "output_type": "execute_result"
    }
   ],
   "source": [
    "soup.find_all(\"div\",class_=\"subject_area\")"
   ]
  },
  {
   "cell_type": "code",
   "execution_count": 381,
   "metadata": {},
   "outputs": [
    {
     "data": {
      "text/plain": [
       "'<div class=\"col-md-12 col-sm-12 col-xs-12\" id=\"datelist\"><span style=\"float:right;font-size:14px;\"><input type=\"text\" class=\"showdate\" name=\"sdate\" maxlength=\"10\" ReadOnly  placeholder=\"查詢其他日期\" ID=\"sdate\" value=\"2024-01-03\" style=\"width:130px;\"></span></div><div class=\"col-md-12 col-sm-12 col-xs-12 m-b-5\" style=\"padding: 0;margin-left: 8px;\">\\t<div class=\"col-md-12 col-sm-12 col-xs-12\" style=\"background-color:#fef9f4;border-top:1px solid #fcd5b5;border-bottom:1px solid #fcd5b5;font-weight:bold;padding:5px 0;\">\\t\\t<div class=\"col-md-12 col-sm-12 col-xs-12\" style=\"text-align:right;\">\\t\\t\\t&nbsp;&nbsp;排序方式：\\t\\t\\t<a href=\"javascript: void(0);\" onclick=\"filtercat2(\\'0\\',\\'\\',\\'0\\',\\'0\\');\">時間▼</a>&nbsp;&nbsp;&nbsp;<a href=\"javascript: void(0);\" onclick=\"filtercat2(\\'0\\',\\'\\',\\'1\\',\\'0\\');\">分類</a>&nbsp;&nbsp;&nbsp;<a href=\"javascript: void(0);\" onclick=\"filtercat2(\\'0\\',\\'\\',\\'2\\',\\'0\\');\">熱門度</a>\\t\\t</div>\\t</div></div><div class=\"col-md-12 col-sm-12 col-xs-12\" id=\"ajaxcontainer\" style=\"padding:0\">\\t<div id=\"BBriefing\"><div id=\"BBriefingContent\"></div></div>\\t<div class=\"col-md-12 col-sm-12 col-xs-12 txt-20\" style=\"padding:0;font-weight: bold;border-bottom:solid 1px black;border-top:solid 1px black;padding: 5px 0;\">\\t\\t<div class=\"col-md-3 col-sm-3 col-xs-4\" style=\"text-align:center;\">分類</div>\\t\\t<div class=\"col-md-7 col-sm-7 col-xs-8\" style=\"text-align:center;\">標題</div>\\t\\t<div class=\"col-md-2 col-sm-2 hidden-xs\" style=\"text-align:center;\" id=\"timer_td\">時間</div>\\t</div>\\t<div class=\"col-md-12 col-sm-12 col-xs-12 txt-20 newscontainer\" style=\"padding:0\"><div class=\"col-md-12 col-sm-12 col-xs-12 trbox\" style=\"padding:0;border-bottom:dotted 1px silver;\"><div class=\"col-md-3 col-sm-3 col-xs-4 catuiname\" style=\"background-color:#f3f3f3;text-align:center;\" onmouseover=\"hideBriefing();\"><span><a href=\"javascript: void(0);\" onclick=\"filtercat1(\\'10\\',\\'\\',\\'\\',\\'\\',1);\">產業</a></span></div><div class=\"col-md-7 col-sm-7 col-xs-8 subject_area\" hb=\"1\"><a href=\"/tech/dt/n/shwnws.asp?cnlid=1&cat=90&id=0000682427_XSD5KRPE17VM7B8538EST\" target=\"_blank\" ><p style=\"margin:5px 0;\"><span>比亞迪單季純電動車銷量超越Tesla\\u30004Q23成全球龍頭</span>&nbsp;&nbsp;&nbsp;<span class=\"visible-xs\">1/3 12:27</span></p></a></div><div class=\"col-md-2 col-sm-2 hidden-xs\" nowrap style=\"text-align:center;\"><span>1/3 12:27</span></div></div><div class=\"col-md-12 col-sm-12 col-xs-12 trbox\" style=\"padding:0;border-bottom:dotted 1px silver;\"><div class=\"col-md-3 col-sm-3 col-xs-4 catuiname\" style=\"background-color:#f3f3f3;text-align:center;\" onmouseover=\"hideBriefing();\"><span><a href=\"javascript: void(0);\" onclick=\"filtercat1(\\'10\\',\\'\\',\\'\\',\\'\\',1);\">產業</a></span></div><div class=\"col-md-7 col-sm-7 col-xs-8 subject_area\" hb=\"1\"><a href=\"/tech/dt/n/shwnws.asp?cnlid=1&cat=70&id=0000682446_D8J3EBWF5H3S9F5VRSZ3R\" target=\"_blank\" ><p style=\"margin:5px 0;\"><span>2023年高階手機市場持續擴張\\u3000蘋果強碰三星、華為</span>&nbsp;&nbsp;&nbsp;<span class=\"visible-xs\">1/3 12:14</span></p></a></div><div class=\"col-md-2 col-sm-2 hidden-xs\" nowrap style=\"text-align:center;\"><span>1/3 12:14</span></div></div><div class=\"col-md-12 col-sm-12 col-xs-12 trbox\" style=\"padding:0;border-bottom:dotted 1px silver;\"><div class=\"col-md-3 col-sm-3 col-xs-4 catuiname\" style=\"background-color:#f3f3f3;text-align:center;\" onmouseover=\"hideBriefing();\"><span><a href=\"javascript: void(0);\" onclick=\"filtercat1(\\'10\\',\\'\\',\\'\\',\\'\\',1);\">產業</a></span></div><div class=\"col-md-7 col-sm-7 col-xs-8 subject_area\" hb=\"1\"><a href=\"/tech/dt/n/shwnws.asp?cnlid=1&cat=40&id=0000682429_RNJ5PERJ1X64JZL6W3XPG\" target=\"_blank\" ><p style=\"margin:5px 0;\"><span>鞏固HBM領導地位\\u3000SK海力士ㅡM15X新廠將生產HBM</span>&nbsp;&nbsp;&nbsp;<span class=\"visible-xs\">1/3 12:06</span></p></a></div><div class=\"col-md-2 col-sm-2 hidden-xs\" nowrap style=\"text-align:center;\"><span>1/3 12:06</span></div></div><div class=\"col-md-12 col-sm-12 col-xs-12 trbox\" style=\"padding:0;border-bottom:dotted 1px silver;\"><div class=\"col-md-3 col-sm-3 col-xs-4 catuiname\" style=\"background-color:#f3f3f3;text-align:center;\" onmouseover=\"hideBriefing();\"><span><a href=\"javascript: void(0);\" onclick=\"filtercat1(\\'90\\',\\'\\',\\'\\',\\'\\',2);\">區域</a></span></div><div class=\"col-md-7 col-sm-7 col-xs-8 subject_area\" hb=\"1\"><a href=\"/tech/dt/n/shwnws.asp?cnlid=9&cat=400&id=0000682440_5XA5OSIE32N50S15X2SZ3\" target=\"_blank\" ><p style=\"margin:5px 0;\"><span>SEMI：終端、AI需求添足動能\\u3000全球晶圓月產能將破3千萬片</span>&nbsp;&nbsp;&nbsp;<span class=\"visible-xs\">1/3 11:41</span></p></a></div><div class=\"col-md-2 col-sm-2 hidden-xs\" nowrap style=\"text-align:center;\"><span>1/3 11:41</span></div></div><div class=\"col-md-12 col-sm-12 col-xs-12 trbox\" style=\"padding:0;border-bottom:dotted 1px silver;\"><div class=\"col-md-3 col-sm-3 col-xs-4 catuiname\" style=\"background-color:#f3f3f3;text-align:center;\" onmouseover=\"hideBriefing();\"><span><a href=\"javascript: void(0);\" onclick=\"filtercat1(\\'10\\',\\'\\',\\'\\',\\'\\',1);\">產業</a></span></div><div class=\"col-md-7 col-sm-7 col-xs-8 subject_area\" hb=\"1\"><a href=\"/tech/dt/n/shwnws.asp?cnlid=1&cat=40&id=0000682428_T1Q3VHGB3VJJOE7MKYNP2\" target=\"_blank\" ><p style=\"margin:5px 0;\"><span>日本石川地震衝擊製造與物流\\u3000東芝、Kokusai等停工</span>&nbsp;&nbsp;&nbsp;<span class=\"visible-xs\">1/3 11:27</span></p></a></div><div class=\"col-md-2 col-sm-2 hidden-xs\" nowrap style=\"text-align:center;\"><span>1/3 11:27</span></div></div><div class=\"col-md-12 col-sm-12 col-xs-12 trbox\" style=\"padding:0;border-bottom:dotted 1px silver;\"><div class=\"col-md-3 col-sm-3 col-xs-4 catuiname\" style=\"background-color:#f3f3f3;text-align:center;\" onmouseover=\"hideBriefing();\"><span><a href=\"javascript: void(0);\" onclick=\"filtercat1(\\'10\\',\\'\\',\\'\\',\\'\\',1);\">產業</a></span></div><div class=\"col-md-7 col-sm-7 col-xs-8 subject_area\" hb=\"1\"><a href=\"/tech/dt/n/shwnws.asp?cnlid=1&cat=40&id=0000682421_L535W9WW1GSR5J2GC25QF\" target=\"_blank\" ><p style=\"margin:5px 0;\"><span>李開復預測中國AI產業大洗牌\\u3000採本土AI晶片有備案</span>&nbsp;&nbsp;&nbsp;<span class=\"visible-xs\">1/3 10:36</span></p></a></div><div class=\"col-md-2 col-sm-2 hidden-xs\" nowrap style=\"text-align:center;\"><span>1/3 10:36</span></div></div><div class=\"col-md-12 col-sm-12 col-xs-12 trbox\" style=\"padding:0;border-bottom:dotted 1px silver;\"><div class=\"col-md-3 col-sm-3 col-xs-4 catuiname\" style=\"background-color:#f3f3f3;text-align:center;\" onmouseover=\"hideBriefing();\"><span><a href=\"javascript: void(0);\" onclick=\"filtercat1(\\'10\\',\\'\\',\\'\\',\\'\\',1);\">產業</a></span></div><div class=\"col-md-7 col-sm-7 col-xs-8 subject_area\" hb=\"1\"><a href=\"/tech/dt/n/shwnws.asp?cnlid=1&cat=20&id=0000682425_B5N3GQWS3CL1FG4G8OC4E\" target=\"_blank\" ><p style=\"margin:5px 0;\"><span>彭博：蘋果Vision Pro將於1月底開賣</span>&nbsp;&nbsp;&nbsp;<span class=\"visible-xs\">1/3 10:13</span></p></a></div><div class=\"col-md-2 col-sm-2 hidden-xs\" nowrap style=\"text-align:center;\"><span>1/3 10:13</span></div></div><div class=\"col-md-12 col-sm-12 col-xs-12 trbox\" style=\"padding:0;border-bottom:dotted 1px silver;\"><div class=\"col-md-3 col-sm-3 col-xs-4 catuiname\" style=\"background-color:#f3f3f3;text-align:center;\" onmouseover=\"hideBriefing();\"><span><a href=\"javascript: void(0);\" onclick=\"filtercat1(\\'10\\',\\'\\',\\'\\',\\'\\',1);\">產業</a></span></div><div class=\"col-md-7 col-sm-7 col-xs-8 subject_area\" hb=\"1\"><a href=\"/tech/dt/n/shwnws.asp?cnlid=1&cat=60&id=0000682413_KAK3QUOY23KHWJ2LEA93D\" target=\"_blank\" ><p style=\"margin:5px 0;\"><span>百度CEO：中國算力晶片受限\\u3000「百模大戰」太浪費資源</span>&nbsp;&nbsp;&nbsp;<span class=\"visible-xs\">1/3 10:06</span></p></a></div><div class=\"col-md-2 col-sm-2 hidden-xs\" nowrap style=\"text-align:center;\"><span>1/3 10:06</span></div></div><div class=\"col-md-12 col-sm-12 col-xs-12 trbox\" style=\"padding:0;border-bottom:dotted 1px silver;\"><div class=\"col-md-3 col-sm-3 col-xs-4 catuiname\" style=\"background-color:#f3f3f3;text-align:center;\" onmouseover=\"hideBriefing();\"><span><a href=\"javascript: void(0);\" onclick=\"filtercat1(\\'90\\',\\'\\',\\'\\',\\'\\',2);\">區域</a></span></div><div class=\"col-md-7 col-sm-7 col-xs-8 subject_area\" hb=\"1\"><a href=\"/tech/dt/n/shwnws.asp?cnlid=9&cat=315&id=0000682422_BDD5B8221YCYZR3KKJ73N\" target=\"_blank\" ><p style=\"margin:5px 0;\"><span>紅海危機持續\\u3000海運巨擘相繼宣布繞道好望角</span>&nbsp;&nbsp;&nbsp;<span class=\"visible-xs\">1/3 09:13</span></p></a></div><div class=\"col-md-2 col-sm-2 hidden-xs\" nowrap style=\"text-align:center;\"><span>1/3 09:13</span></div></div><div class=\"col-md-12 col-sm-12 col-xs-12 trbox\" style=\"padding:0;border-bottom:dotted 1px silver;\"><div class=\"col-md-3 col-sm-3 col-xs-4 catuiname\" style=\"background-color:#f3f3f3;text-align:center;\" onmouseover=\"hideBriefing();\"><span><a href=\"javascript: void(0);\" onclick=\"filtercat1(\\'10\\',\\'\\',\\'\\',\\'\\',1);\">產業</a></span></div><div class=\"col-md-7 col-sm-7 col-xs-8 subject_area\" hb=\"1\"><a href=\"/tech/dt/n/shwnws.asp?cnlid=1&cat=90&id=0000682412_LJQ3GZBR2NWAVD1V648QT\" target=\"_blank\" ><p style=\"margin:5px 0;\"><span>每日椽真：今年供應鏈仍看NVIDIA臉色？| 豐田跟進這個技術\\u3000機器人業者大感不妙</span>&nbsp;&nbsp;&nbsp;<span class=\"visible-xs\">1/3 05:46</span></p></a></div><div class=\"col-md-2 col-sm-2 hidden-xs\" nowrap style=\"text-align:center;\"><span>1/3 05:46</span></div></div><div class=\"col-md-12 col-sm-12 col-xs-12 trbox\" style=\"padding:0;border-bottom:dotted 1px silver;\"><div class=\"col-md-3 col-sm-3 col-xs-4 catuiname\" style=\"background-color:#f3f3f3;text-align:center;\" onmouseover=\"hideBriefing();\"><span><a href=\"javascript: void(0);\" onclick=\"filtercat1(\\'130\\',\\'\\',\\'\\',\\'\\',3);\">商情</a></span></div><div class=\"col-md-7 col-sm-7 col-xs-8 subject_area\" hb=\"1\"><a href=\"/tech/dt/n/shwnws.asp?cnlid=13&id=0000682162_U2S2CRRQ5UKKQQ3C7911H\" target=\"_blank\" ><p style=\"margin:5px 0;\"><span>F5發布2024年多雲應用與安全技術預測</span>&nbsp;&nbsp;&nbsp;<span class=\"visible-xs\">1/3 03:07</span></p></a></div><div class=\"col-md-2 col-sm-2 hidden-xs\" nowrap style=\"text-align:center;\"><span>1/3 03:07</span></div></div><div class=\"col-md-12 col-sm-12 col-xs-12 trbox\" style=\"padding:0;border-bottom:dotted 1px silver;\"><div class=\"col-md-3 col-sm-3 col-xs-4 catuiname\" style=\"background-color:#f3f3f3;text-align:center;\" onmouseover=\"hideBriefing();\"><span><a href=\"javascript: void(0);\" onclick=\"filtercat1(\\'90\\',\\'\\',\\'\\',\\'\\',2);\">區域</a></span></div><div class=\"col-md-7 col-sm-7 col-xs-8 subject_area\" hb=\"1\"><a href=\"/tech/dt/n/shwnws.asp?cnlid=9&cat=400&id=0000682384_E2R2DOQF9U9EHQ3O75PZU\" target=\"_blank\" ><p style=\"margin:5px 0;\"><span>DRAM補漲正式啟動\\u3000三星、美光1Q24漲幅上看20%</span>&nbsp;&nbsp;&nbsp;<span class=\"visible-xs\">1/3 03:00</span></p></a></div><div class=\"col-md-2 col-sm-2 hidden-xs\" nowrap style=\"text-align:center;\"><span>1/3 03:00</span></div></div><div class=\"col-md-12 col-sm-12 col-xs-12 trbox\" style=\"padding:0;border-bottom:dotted 1px silver;\"><div class=\"col-md-3 col-sm-3 col-xs-4 catuiname\" style=\"background-color:#f3f3f3;text-align:center;\" onmouseover=\"hideBriefing();\"><span><a href=\"javascript: void(0);\" onclick=\"filtercat1(\\'10\\',\\'\\',\\'\\',\\'\\',1);\">產業</a></span></div><div class=\"col-md-7 col-sm-7 col-xs-8 subject_area\" hb=\"1\"><a href=\"/tech/dt/n/shwnws.asp?cnlid=1&cat=30&id=0000682378_OLE4RVZL69GD859MI6OBU\" target=\"_blank\" ><p style=\"margin:5px 0;\"><span>彩色電子紙兩軍對壘\\u3000中國市場先較量</span>&nbsp;&nbsp;&nbsp;<span class=\"visible-xs\">1/3 03:00</span></p></a></div><div class=\"col-md-2 col-sm-2 hidden-xs\" nowrap style=\"text-align:center;\"><span>1/3 03:00</span></div></div><div class=\"col-md-12 col-sm-12 col-xs-12 trbox\" style=\"padding:0;border-bottom:dotted 1px silver;\"><div class=\"col-md-3 col-sm-3 col-xs-4 catuiname\" style=\"background-color:#f3f3f3;text-align:center;\" onmouseover=\"hideBriefing();\"><span><a href=\"javascript: void(0);\" onclick=\"filtercat1(\\'10\\',\\'\\',\\'\\',\\'\\',1);\">產業</a></span></div><div class=\"col-md-7 col-sm-7 col-xs-8 subject_area\" hb=\"1\"><a href=\"/tech/dt/n/shwnws.asp?cnlid=1&cat=30&id=0000681103_6IJ0W4IK14W4YH2E85M93\" target=\"_blank\" ><p style=\"margin:5px 0;\"><span>2023年OLED監視器出貨有望大增\\u3000SDC市佔稱王</span>&nbsp;&nbsp;&nbsp;<span class=\"visible-xs\">1/3 02:56</span></p></a></div><div class=\"col-md-2 col-sm-2 hidden-xs\" nowrap style=\"text-align:center;\"><span>1/3 02:56</span></div></div><div class=\"col-md-12 col-sm-12 col-xs-12 trbox\" style=\"padding:0;border-bottom:dotted 1px silver;\"><div class=\"col-md-3 col-sm-3 col-xs-4 catuiname\" style=\"background-color:#f3f3f3;text-align:center;\" onmouseover=\"hideBriefing();\"><span><a href=\"javascript: void(0);\" onclick=\"filtercat1(\\'130\\',\\'\\',\\'\\',\\'\\',3);\">商情</a></span></div><div class=\"col-md-7 col-sm-7 col-xs-8 subject_area\" hb=\"1\"><a href=\"/tech/dt/n/shwnws.asp?cnlid=13&id=0000682027_OBGLDAI53R3DWR6JZIUS3\" target=\"_blank\" ><p style=\"margin:5px 0;\"><span>富比士公布「2023年美國最大私人公司」 金士頓再度登榜前25強</span>&nbsp;&nbsp;&nbsp;<span class=\"visible-xs\">1/3 02:54</span></p></a></div><div class=\"col-md-2 col-sm-2 hidden-xs\" nowrap style=\"text-align:center;\"><span>1/3 02:54</span></div></div><div class=\"col-md-12 col-sm-12 col-xs-12 trbox\" style=\"padding:0;border-bottom:dotted 1px silver;\"><div class=\"col-md-3 col-sm-3 col-xs-4 catuiname\" style=\"background-color:#f3f3f3;text-align:center;\" onmouseover=\"hideBriefing();\"><span><a href=\"javascript: void(0);\" onclick=\"filtercat1(\\'90\\',\\'\\',\\'\\',\\'\\',2);\">區域</a></span></div><div class=\"col-md-7 col-sm-7 col-xs-8 subject_area\" hb=\"1\"><a href=\"/tech/dt/n/shwnws.asp?cnlid=9&cat=400&id=0000682362_IY347FIQ5JSIQX3U35GCP\" target=\"_blank\" ><p style=\"margin:5px 0;\"><span>為6所半導體學院裝上翅膀\\u3000國科會將高額補助採購貴重儀器</span>&nbsp;&nbsp;&nbsp;<span class=\"visible-xs\">1/3 02:52</span></p></a></div><div class=\"col-md-2 col-sm-2 hidden-xs\" nowrap style=\"text-align:center;\"><span>1/3 02:52</span></div></div><div class=\"col-md-12 col-sm-12 col-xs-12 trbox\" style=\"padding:0;border-bottom:dotted 1px silver;\"><div class=\"col-md-3 col-sm-3 col-xs-4 catuiname\" style=\"background-color:#f3f3f3;text-align:center;\" onmouseover=\"hideBriefing();\"><span><a href=\"javascript: void(0);\" onclick=\"filtercat1(\\'10\\',\\'\\',\\'\\',\\'\\',1);\">產業</a></span></div><div class=\"col-md-7 col-sm-7 col-xs-8 subject_area\" hb=\"1\"><a href=\"/tech/dt/n/shwnws.asp?cnlid=1&cat=40&id=0000682187_MZH25VXT7WOKT98JDQZCA\" target=\"_blank\" ><p style=\"margin:5px 0;\"><span>生成式AI新紀元\\u3000聊天機器人朝智慧助理發展</span>&nbsp;&nbsp;&nbsp;<span class=\"visible-xs\">1/3 02:51</span></p></a></div><div class=\"col-md-2 col-sm-2 hidden-xs\" nowrap style=\"text-align:center;\"><span>1/3 02:51</span></div></div><div class=\"col-md-12 col-sm-12 col-xs-12 trbox\" style=\"padding:0;border-bottom:dotted 1px silver;\"><div class=\"col-md-3 col-sm-3 col-xs-4 catuiname\" style=\"background-color:#f3f3f3;text-align:center;\" onmouseover=\"hideBriefing();\"><span><a href=\"javascript: void(0);\" onclick=\"filtercat1(\\'130\\',\\'\\',\\'\\',\\'\\',3);\">商情</a></span></div><div class=\"col-md-7 col-sm-7 col-xs-8 subject_area\" hb=\"1\"><a href=\"/tech/dt/n/shwnws.asp?cnlid=13&id=0000682159_1ZV23UPH45E7UMLGWAZMZ\" target=\"_blank\" ><p style=\"margin:5px 0;\"><span>瑞薩推出可程式馬達驅動器IC\\u3000提供零速全扭矩</span>&nbsp;&nbsp;&nbsp;<span class=\"visible-xs\">1/3 02:50</span></p></a></div><div class=\"col-md-2 col-sm-2 hidden-xs\" nowrap style=\"text-align:center;\"><span>1/3 02:50</span></div></div><div class=\"col-md-12 col-sm-12 col-xs-12 trbox\" style=\"padding:0;border-bottom:dotted 1px silver;\"><div class=\"col-md-3 col-sm-3 col-xs-4 catuiname\" style=\"background-color:#f3f3f3;text-align:center;\" onmouseover=\"hideBriefing();\"><span><a href=\"javascript: void(0);\" onclick=\"filtercat1(\\'90\\',\\'\\',\\'\\',\\'\\',2);\">區域</a></span></div><div class=\"col-md-7 col-sm-7 col-xs-8 subject_area\" hb=\"1\"><a href=\"/tech/dt/n/shwnws.asp?cnlid=9&cat=430&id=0000682377_6OB2J8YL8PYB066LJALQY\" target=\"_blank\" ><p style=\"margin:5px 0;\"><span>看準車用新藍海\\u3000台系功率元件加速擴廠腳步</span>&nbsp;&nbsp;&nbsp;<span class=\"visible-xs\">1/3 02:50</span></p></a></div><div class=\"col-md-2 col-sm-2 hidden-xs\" nowrap style=\"text-align:center;\"><span>1/3 02:50</span></div></div><div class=\"col-md-12 col-sm-12 col-xs-12 trbox\" style=\"padding:0;border-bottom:dotted 1px silver;\"><div class=\"col-md-3 col-sm-3 col-xs-4 catuiname\" style=\"background-color:#f3f3f3;text-align:center;\" onmouseover=\"hideBriefing();\"><span><a href=\"javascript: void(0);\" onclick=\"filtercat1(\\'10\\',\\'\\',\\'\\',\\'\\',1);\">產業</a></span></div><div class=\"col-md-7 col-sm-7 col-xs-8 subject_area\" hb=\"1\"><a href=\"/tech/dt/n/shwnws.asp?cnlid=1&cat=90&id=0000681040_4AKLAPAL5FTIKVLVGMCOK\" target=\"_blank\" ><p style=\"margin:5px 0;\"><span>(Daily Issue)未來車：2023全球車市迎成長\\u30002024業界展望不同調</span>&nbsp;&nbsp;&nbsp;<span class=\"visible-xs\">1/3 02:49</span></p></a></div><div class=\"col-md-2 col-sm-2 hidden-xs\" nowrap style=\"text-align:center;\"><span>1/3 02:49</span></div></div><div class=\"col-md-12 col-sm-12 col-xs-12 trbox\" style=\"padding:0;border-bottom:dotted 1px silver;\"><div class=\"col-md-3 col-sm-3 col-xs-4 catuiname\" style=\"background-color:#f3f3f3;text-align:center;\" onmouseover=\"hideBriefing();\"><span><a href=\"javascript: void(0);\" onclick=\"filtercat1(\\'10\\',\\'\\',\\'\\',\\'\\',1);\">產業</a></span></div><div class=\"col-md-7 col-sm-7 col-xs-8 subject_area\" hb=\"1\"><a href=\"/tech/dt/n/shwnws.asp?cnlid=1&cat=30&id=0000681788_ZCR8XJQM7HFJ739VRZL87\" target=\"_blank\" ><p style=\"margin:5px 0;\"><span>DSCC：2024年顯示器設備投資將年增82%</span>&nbsp;&nbsp;&nbsp;<span class=\"visible-xs\">1/3 02:49</span></p></a></div><div class=\"col-md-2 col-sm-2 hidden-xs\" nowrap style=\"text-align:center;\"><span>1/3 02:49</span></div></div><div class=\"col-md-12 col-sm-12 col-xs-12 trbox\" style=\"padding:0;border-bottom:dotted 1px silver;\"><div class=\"col-md-3 col-sm-3 col-xs-4 catuiname\" style=\"background-color:#f3f3f3;text-align:center;\" onmouseover=\"hideBriefing();\"><span><a href=\"javascript: void(0);\" onclick=\"filtercat1(\\'10\\',\\'\\',\\'\\',\\'\\',1);\">產業</a></span></div><div class=\"col-md-7 col-sm-7 col-xs-8 subject_area\" hb=\"1\"><a href=\"/tech/dt/n/shwnws.asp?cnlid=1&cat=60&id=0000682311_MZJ4GJSR093CKH2TFV7VV\" target=\"_blank\" ><p style=\"margin:5px 0;\"><span>比爾蓋茲預測AI將加速創新力與生產力</span>&nbsp;&nbsp;&nbsp;<span class=\"visible-xs\">1/3 02:49</span></p></a></div><div class=\"col-md-2 col-sm-2 hidden-xs\" nowrap style=\"text-align:center;\"><span>1/3 02:49</span></div></div><div class=\"col-md-12 col-sm-12 col-xs-12 trbox\" style=\"padding:0;border-bottom:dotted 1px silver;\"><div class=\"col-md-3 col-sm-3 col-xs-4 catuiname\" style=\"background-color:#f3f3f3;text-align:center;\" onmouseover=\"hideBriefing();\"><span><a href=\"javascript: void(0);\" onclick=\"filtercat1(\\'10\\',\\'\\',\\'\\',\\'\\',1);\">產業</a></span></div><div class=\"col-md-7 col-sm-7 col-xs-8 subject_area\" hb=\"1\"><a href=\"/tech/dt/n/shwnws.asp?cnlid=1&cat=30&id=0000682373_H474Q2VR62IH8T4VMD5VY\" target=\"_blank\" ><p style=\"margin:5px 0;\"><span>英濟上海廠搬遷\\u3000衝刺光電、生醫新事業</span>&nbsp;&nbsp;&nbsp;<span class=\"visible-xs\">1/3 02:48</span></p></a></div><div class=\"col-md-2 col-sm-2 hidden-xs\" nowrap style=\"text-align:center;\"><span>1/3 02:48</span></div></div>\\t</div>\\t<div class=\"col-md-12 col-sm-12 col-xs-12\" id=\"tr_more\" style=\"padding:0\">\\t\\t<a href=\"javascript: void(0);\" onclick=\"filtercat3(\\'0\\',\\'\\',\\'\\',\\'0\\');\" style=\"color:white;\"><div align=\"center\" style=\"background-color:#e46c0a; color:#FFF; padding:5px; width:100%; font-weight:bold;font-size:13px;\">\\t\\t看更多報導\\t\\t</div></a>\\t</div>\\t<input type=\"hidden\" name=\"pagecnt\" id=\"pagecnt\" value=\"1\">\\t<input type=\"hidden\" name=\"cat1\" id=\"cat1\" value=\"0\">\\t<input type=\"hidden\" name=\"cat2\" id=\"cat2\" value=\"\"></div>'"
      ]
     },
     "execution_count": 381,
     "metadata": {},
     "output_type": "execute_result"
    }
   ],
   "source": [
    "r.text"
   ]
  },
  {
   "cell_type": "code",
   "execution_count": null,
   "metadata": {},
   "outputs": [],
   "source": []
  }
 ],
 "metadata": {
  "kernelspec": {
   "display_name": "news-robot",
   "language": "python",
   "name": "python3"
  },
  "language_info": {
   "codemirror_mode": {
    "name": "ipython",
    "version": 3
   },
   "file_extension": ".py",
   "mimetype": "text/x-python",
   "name": "python",
   "nbconvert_exporter": "python",
   "pygments_lexer": "ipython3",
   "version": "3.9.5"
  },
  "orig_nbformat": 4
 },
 "nbformat": 4,
 "nbformat_minor": 2
}
