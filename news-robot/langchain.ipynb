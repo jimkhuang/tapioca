{
 "cells": [
  {
   "cell_type": "code",
   "execution_count": 1,
   "metadata": {},
   "outputs": [],
   "source": [
    "from langchain_community.chat_models import ChatOpenAI\n",
    "import os\n",
    "import openai\n",
    "from openai import AzureOpenAI\n",
    "from langchain.schema import HumanMessage\n",
    "from langchain_community.chat_models import AzureChatOpenAI"
   ]
  },
  {
   "cell_type": "code",
   "execution_count": 40,
   "metadata": {},
   "outputs": [],
   "source": [
    "os.environ[\"AZURE_OPENAI_KEY\"] = \"34cefc78d3624a7ba005e4b0e7e3da23\"\n",
    "os.environ[\"AZURE_OPENAI_ENDPOINT\"] = \"https://coopenai.openai.azure.com/openai/deployments/gpt-4/chat/completions?api-version=2023-07-01-preview\""
   ]
  },
  {
   "cell_type": "code",
   "execution_count": 41,
   "metadata": {},
   "outputs": [
    {
     "name": "stdout",
     "output_type": "stream",
     "text": [
      "Yes, several other Azure AI services support the use of customer-managed keys (CMKs) for data encryption, which allows customers to have control over the encryption keys used to protect their data at rest. This is a part of Azure's commitment to providing a high level of security and compliance.\n",
      "\n",
      "For instance, Azure Machine Learning allows customers to secure their workspace with customer-managed keys. Azure Cognitive Services, a collection of AI services and cognitive APIs, also provide options to use customer-managed keys in some of their services, like Azure Cognitive Search.\n",
      "\n",
      "The availability and implementation of customer-managed keys might vary across different services and features within Azure AI, so it's important to refer to the specific service documentation for detailed information on how to implement CMKs in your scenarios.\n",
      "\n",
      "Always confirm with the most recent Azure documentation or the Azure support team, as the status and features of cloud services can change over time.\n"
     ]
    }
   ],
   "source": [
    "client = AzureOpenAI(\n",
    "    api_key = os.getenv(\"AZURE_OPENAI_KEY\"),  \n",
    "    api_version = \"2023-07-01-preview\",\n",
    "    azure_endpoint = os.getenv(\"AZURE_OPENAI_ENDPOINT\")\n",
    "    )\n",
    "\n",
    "deployment_name='gpt-4' #This will correspond to the custom name you chose for your deployment when you deployed a model. Use a gpt-35-turbo-instruct deployment. \n",
    "    \n",
    "# Send a completion call to generate an answer\n",
    "response = client.chat.completions.create(\n",
    "    model = deployment_name, # model = \"deployment_name\".\n",
    "    messages=[\n",
    "        {\"role\": \"system\", \"content\": \"You are a helpful assistant.\"},\n",
    "        {\"role\": \"user\", \"content\": \"Does Azure OpenAI support customer managed keys?\"},\n",
    "        {\"role\": \"assistant\", \"content\": \"Yes, customer managed keys are supported by Azure OpenAI.\"},\n",
    "        {\"role\": \"user\", \"content\": \"Do other Azure AI services support this too?\"}\n",
    "    ]\n",
    ")\n",
    "\n",
    "print(response.choices[0].message.content)"
   ]
  },
  {
   "cell_type": "code",
   "execution_count": 65,
   "metadata": {},
   "outputs": [],
   "source": [
    "model = AzureChatOpenAI(\n",
    "    openai_api_version=\"2023-07-01-preview\",\n",
    "    azure_deployment=\"gpt-4\",\n",
    "    api_key = os.getenv(\"AZURE_OPENAI_KEY\"),  \n",
    "    azure_endpoint = os.getenv(\"AZURE_OPENAI_ENDPOINT\"),\n",
    "    temperature=0.9\n",
    ")"
   ]
  },
  {
   "cell_type": "code",
   "execution_count": 48,
   "metadata": {},
   "outputs": [
    {
     "data": {
      "text/plain": [
       "'\"Scoops of Joy in Every Cone!\"'"
      ]
     },
     "execution_count": 48,
     "metadata": {},
     "output_type": "execute_result"
    }
   ],
   "source": [
    "message = HumanMessage(\n",
    "    content=\"Write a tagline for an ice cream shop.\"\n",
    ")\n",
    "model([message]).content"
   ]
  },
  {
   "cell_type": "code",
   "execution_count": 49,
   "metadata": {},
   "outputs": [],
   "source": [
    "from langchain.prompts import ChatPromptTemplate"
   ]
  },
  {
   "cell_type": "code",
   "execution_count": 54,
   "metadata": {},
   "outputs": [],
   "source": [
    "prompt = ChatPromptTemplate.from_messages([\n",
    "    (\"system\", \n",
    "     \"You are a marketing writing assistant. You help come up with creative content ideas and \\\n",
    "     content like marketing emails, blog posts, tweets, ad copy and product descriptions. \\\n",
    "     You write in a friendly yet professional tone but can tailor your writing style that best works for a user-specified audience. \\\n",
    "     If you do not know the answer to a question, respond by saying \\\"I do not know the answer to your question.\"), \n",
    "     (\"human\",\"{question}\") ])"
   ]
  },
  {
   "cell_type": "code",
   "execution_count": 72,
   "metadata": {},
   "outputs": [
    {
     "data": {
      "text/plain": [
       "AIMessage(content='How about \"Chill Whisk Wonders\"? This name conjures up images of delightful frozen desserts crafted with a touch of whimsy and creativity, perfect for a fresh, fun, and innovative ice cream shop experience!')"
      ]
     },
     "execution_count": 72,
     "metadata": {},
     "output_type": "execute_result"
    }
   ],
   "source": [
    "message = prompt.format_messages(question=\"Please provide a name for an ice cream shop. This is the first shop in this district. Please be more creative and fun!\\\n",
    "                                 Stop 'Scoops of Joy' or related names!\")\n",
    "model.invoke(message)"
   ]
  },
  {
   "cell_type": "code",
   "execution_count": null,
   "metadata": {},
   "outputs": [],
   "source": []
  }
 ],
 "metadata": {
  "kernelspec": {
   "display_name": "news-robot",
   "language": "python",
   "name": "python3"
  },
  "language_info": {
   "codemirror_mode": {
    "name": "ipython",
    "version": 3
   },
   "file_extension": ".py",
   "mimetype": "text/x-python",
   "name": "python",
   "nbconvert_exporter": "python",
   "pygments_lexer": "ipython3",
   "version": "3.9.5"
  },
  "orig_nbformat": 4
 },
 "nbformat": 4,
 "nbformat_minor": 2
}
